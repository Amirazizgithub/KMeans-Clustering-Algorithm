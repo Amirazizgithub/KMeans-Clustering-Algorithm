{
 "cells": [
  {
   "cell_type": "markdown",
   "id": "55fda67c",
   "metadata": {},
   "source": [
    "# KMeans Clustering Algorithm"
   ]
  },
  {
   "cell_type": "code",
   "execution_count": 1,
   "id": "3b940caf",
   "metadata": {},
   "outputs": [],
   "source": [
    "## import important libraries\n",
    "import numpy as np\n",
    "import pandas as pd\n",
    "import matplotlib.pyplot as plt\n",
    "from sklearn.datasets import make_blobs\n",
    "import plotly.express as px\n",
    "from sklearn.cluster import KMeans\n",
    "import warnings\n",
    "warnings.filterwarnings('ignore')"
   ]
  },
  {
   "cell_type": "code",
   "execution_count": 2,
   "id": "b42c4dc0",
   "metadata": {},
   "outputs": [
    {
     "name": "stdout",
     "output_type": "stream",
     "text": [
      "The shape of data is (200, 2)\n"
     ]
    },
    {
     "data": {
      "text/html": [
       "<div>\n",
       "<style scoped>\n",
       "    .dataframe tbody tr th:only-of-type {\n",
       "        vertical-align: middle;\n",
       "    }\n",
       "\n",
       "    .dataframe tbody tr th {\n",
       "        vertical-align: top;\n",
       "    }\n",
       "\n",
       "    .dataframe thead th {\n",
       "        text-align: right;\n",
       "    }\n",
       "</style>\n",
       "<table border=\"1\" class=\"dataframe\">\n",
       "  <thead>\n",
       "    <tr style=\"text-align: right;\">\n",
       "      <th></th>\n",
       "      <th>cgpa</th>\n",
       "      <th>iq</th>\n",
       "    </tr>\n",
       "  </thead>\n",
       "  <tbody>\n",
       "    <tr>\n",
       "      <th>0</th>\n",
       "      <td>5.13</td>\n",
       "      <td>88</td>\n",
       "    </tr>\n",
       "    <tr>\n",
       "      <th>1</th>\n",
       "      <td>5.90</td>\n",
       "      <td>113</td>\n",
       "    </tr>\n",
       "    <tr>\n",
       "      <th>2</th>\n",
       "      <td>8.36</td>\n",
       "      <td>93</td>\n",
       "    </tr>\n",
       "    <tr>\n",
       "      <th>3</th>\n",
       "      <td>8.27</td>\n",
       "      <td>97</td>\n",
       "    </tr>\n",
       "    <tr>\n",
       "      <th>4</th>\n",
       "      <td>5.45</td>\n",
       "      <td>110</td>\n",
       "    </tr>\n",
       "  </tbody>\n",
       "</table>\n",
       "</div>"
      ],
      "text/plain": [
       "   cgpa   iq\n",
       "0  5.13   88\n",
       "1  5.90  113\n",
       "2  8.36   93\n",
       "3  8.27   97\n",
       "4  5.45  110"
      ]
     },
     "execution_count": 2,
     "metadata": {},
     "output_type": "execute_result"
    }
   ],
   "source": [
    "## Load the dataset for clustering the students\n",
    "df = pd.read_csv('student_clustering.csv')\n",
    "print(\"The shape of data is\",df.shape)\n",
    "df.head()"
   ]
  },
  {
   "cell_type": "markdown",
   "id": "853dd377",
   "metadata": {},
   "source": [
    "Here, we can see there are 200 records and 2 features in this dataset."
   ]
  },
  {
   "cell_type": "markdown",
   "id": "a47ab068",
   "metadata": {},
   "source": [
    "First feature is cgpa(Cumulative Grade Point Average) and other is iq(Intelligence Quotient) of the students."
   ]
  },
  {
   "cell_type": "code",
   "execution_count": 3,
   "id": "708ea951",
   "metadata": {},
   "outputs": [],
   "source": [
    "## Calculate the wcss(Within-Cluster Sum of Square)\n",
    "wcss = []\n",
    "\n",
    "for i in range(1,11):\n",
    "    km = KMeans(n_clusters=i)\n",
    "    km.fit_predict(df)\n",
    "    wcss.append(km.inertia_)"
   ]
  },
  {
   "cell_type": "code",
   "execution_count": 4,
   "id": "88bf7081",
   "metadata": {},
   "outputs": [
    {
     "data": {
      "text/plain": [
       "[29957.898288,\n",
       " 4184.14127,\n",
       " 2362.7133489999997,\n",
       " 681.96966,\n",
       " 514.1616803171115,\n",
       " 398.4039118468833,\n",
       " 295.4391895943192,\n",
       " 233.54082485509016,\n",
       " 198.22433643678949,\n",
       " 173.0704010967672]"
      ]
     },
     "execution_count": 4,
     "metadata": {},
     "output_type": "execute_result"
    }
   ],
   "source": [
    "wcss"
   ]
  },
  {
   "cell_type": "code",
   "execution_count": 5,
   "id": "7a3457c6",
   "metadata": {},
   "outputs": [
    {
     "data": {
      "image/png": "[encoded data removed]",
      "text/plain": [
       "<Figure size 600x400 with 1 Axes>"
      ]
     },
     "metadata": {},
     "output_type": "display_data"
    }
   ],
   "source": [
    "## Using Elbow method to find the k-value\n",
    "## Plot the line graph to find the k-value(Optimal Point) for clustering\n",
    "plt.figure(figsize=(6,4))\n",
    "plt.plot(range(1,11),wcss)\n",
    "plt.title('Plot k-value vs WCSS')\n",
    "plt.xlabel('k-value')\n",
    "plt.ylabel('wcss')\n",
    "plt.show()"
   ]
  },
  {
   "cell_type": "markdown",
   "id": "4d9d9e30",
   "metadata": {},
   "source": [
    "In this line plot, we can see after point 4 the graph line goes to flatten. Here number of clusters are 4 (k=4) which is shown clearly in this graph."
   ]
  },
  {
   "cell_type": "code",
   "execution_count": 6,
   "id": "9c93ddc7",
   "metadata": {},
   "outputs": [],
   "source": [
    "## Now, train the KMeans algorithm to the dataset and clustering the all students in similar group according their cgpa and iq level.\n",
    "X = df.iloc[:,:].values\n",
    "km = KMeans(n_clusters=4)\n",
    "y_means = km.fit_predict(X)"
   ]
  },
  {
   "cell_type": "code",
   "execution_count": 7,
   "id": "5f823e90",
   "metadata": {},
   "outputs": [
    {
     "data": {
      "text/plain": [
       "array([1, 3, 2, 2, 3, 3, 2, 0, 3, 2, 1, 3, 2, 1, 3, 2, 3, 2, 3, 3, 2, 1,\n",
       "       2, 1, 1, 2, 1, 0, 2, 3, 0, 3, 0, 3, 2, 2, 0, 3, 1, 3, 1, 2, 2, 1,\n",
       "       0, 0, 2, 3, 0, 3, 1, 1, 0, 2, 0, 3, 3, 0, 3, 0, 3, 2, 2, 0, 1, 0,\n",
       "       2, 1, 3, 2, 3, 0, 2, 1, 3, 0, 3, 0, 1, 2, 2, 0, 3, 1, 0, 1, 0, 3,\n",
       "       0, 3, 0, 0, 2, 1, 2, 2, 0, 2, 1, 0, 3, 1, 1, 0, 1, 1, 2, 1, 0, 0,\n",
       "       2, 0, 3, 3, 2, 0, 2, 3, 0, 1, 1, 3, 2, 0, 2, 1, 2, 3, 1, 2, 2, 3,\n",
       "       1, 1, 3, 0, 3, 1, 2, 2, 2, 1, 3, 1, 1, 0, 1, 0, 3, 1, 0, 1, 0, 0,\n",
       "       1, 2, 3, 0, 3, 2, 1, 0, 3, 2, 0, 1, 3, 1, 1, 0, 0, 3, 0, 1, 1, 2,\n",
       "       0, 3, 1, 0, 0, 3, 3, 3, 2, 1, 2, 2, 0, 3, 2, 2, 1, 1, 2, 1, 0, 3,\n",
       "       3, 0])"
      ]
     },
     "execution_count": 7,
     "metadata": {},
     "output_type": "execute_result"
    }
   ],
   "source": [
    "y_means"
   ]
  },
  {
   "cell_type": "code",
   "execution_count": 8,
   "id": "4c696706",
   "metadata": {},
   "outputs": [
    {
     "data": {
      "text/plain": [
       "(array([8.8 , 9.18, 8.86, 8.83, 8.56, 8.96, 8.78, 8.45, 8.79, 8.81, 8.88,\n",
       "        9.07, 8.92, 8.75, 8.71, 8.86, 9.3 , 9.01, 8.97, 9.  , 8.76, 8.78,\n",
       "        9.23, 9.03, 9.13, 8.91, 8.98, 9.03, 8.86, 8.89, 8.97, 8.72, 8.93,\n",
       "        8.58, 8.94, 8.6 , 8.77, 8.81, 8.54, 8.97, 8.91, 8.68, 9.06, 8.9 ,\n",
       "        8.94, 8.91, 8.91, 8.95, 8.57, 8.82]),\n",
       " array([115., 119., 117., 118., 118., 116., 116., 119., 116., 115., 115.,\n",
       "        117., 118., 113., 116., 118., 117., 121., 116., 117., 117., 117.,\n",
       "        114., 118., 118., 119., 118., 118., 117., 118., 117., 119., 118.,\n",
       "        118., 117., 117., 117., 116., 118., 119., 117., 119., 120., 117.,\n",
       "        115., 115., 117., 116., 118., 117.]))"
      ]
     },
     "execution_count": 8,
     "metadata": {},
     "output_type": "execute_result"
    }
   ],
   "source": [
    "X[y_means==0,0], X[y_means==0,1],"
   ]
  },
  {
   "cell_type": "code",
   "execution_count": 10,
   "id": "2968ffa6",
   "metadata": {},
   "outputs": [
    {
     "data": {
      "image/png": "[encoded data removed]",
      "text/plain": [
       "<Figure size 600x400 with 1 Axes>"
      ]
     },
     "metadata": {},
     "output_type": "display_data"
    }
   ],
   "source": [
    "## Scatter the group of students according to their cluster and each group is shown by different colour.\n",
    "plt.figure(figsize=(6,4))\n",
    "plt.scatter(X[y_means == 0,0],X[y_means == 0,1],color='green')\n",
    "plt.scatter(X[y_means == 1,0],X[y_means == 1,1],color='red')\n",
    "plt.scatter(X[y_means == 2,0],X[y_means == 2,1],color='yellow')\n",
    "plt.scatter(X[y_means == 3,0],X[y_means == 3,1],color='blue')\n",
    "plt.title('Plot CGPA vs IQ Features')\n",
    "plt.xlabel('CGPA of student')\n",
    "plt.ylabel('IQ of student')\n",
    "plt.show()"
   ]
  },
  {
   "cell_type": "markdown",
   "id": "39dff4cd",
   "metadata": {},
   "source": [
    "Green Colour Cluster: These students are intelligent and hard-working in the class. CGPA is good as well as IQ is high."
   ]
  },
  {
   "cell_type": "markdown",
   "id": "c5ea8aa5",
   "metadata": {},
   "source": [
    "Yellow Colour Cluster: These students are hard-working in the class. CGPA is good but IQ is low."
   ]
  },
  {
   "cell_type": "markdown",
   "id": "3cfc760a",
   "metadata": {},
   "source": [
    "Blue Colour Cluster: These students are intelligent but not hard-working in the class. CGPA is not good but IQ is high. Can we say \"Chill Maar\" students. They need motivation and direction to achieve their goal."
   ]
  },
  {
   "cell_type": "markdown",
   "id": "0a84a99a",
   "metadata": {},
   "source": [
    "Red Colour Cluster: These students are not intelligent as well as not hard-working in the class. CGPA is bad as well as IQ is also very low. They need special attention."
   ]
  },
  {
   "cell_type": "code",
   "execution_count": null,
   "id": "620b6197",
   "metadata": {},
   "outputs": [],
   "source": []
  }
 ],
 "metadata": {
  "kernelspec": {
   "display_name": "Python 3 (ipykernel)",
   "language": "python",
   "name": "python3"
  },
  "language_info": {
   "codemirror_mode": {
    "name": "ipython",
    "version": 3
   },
   "file_extension": ".py",
   "mimetype": "text/x-python",
   "name": "python",
   "nbconvert_exporter": "python",
   "pygments_lexer": "ipython3",
   "version": "3.9.13"
  }
 },
 "nbformat": 4,
 "nbformat_minor": 5
}
